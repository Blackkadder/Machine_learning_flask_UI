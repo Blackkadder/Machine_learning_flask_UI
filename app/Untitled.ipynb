{
 "cells": [
  {
   "cell_type": "code",
   "execution_count": 26,
   "metadata": {},
   "outputs": [],
   "source": [
    "from bokeh.io import output_file, show\n",
    "from bokeh.layouts import widgetbox\n",
    "from bokeh.models import ColumnDataSource\n",
    "from bokeh.models.widgets import DataTable, DateFormatter, TableColumn\n",
    "from bokeh.embed import components\n",
    "from datetime import date\n",
    "from random import randint\n"
   ]
  },
  {
   "cell_type": "code",
   "execution_count": 15,
   "metadata": {},
   "outputs": [],
   "source": [
    "\n",
    "def data_table():\n",
    "        \n",
    "    data = dict(\n",
    "            dates=[date(2014, 3, i+1) for i in range(10)],\n",
    "            downloads=[randint(0, 100) for i in range(10)],\n",
    "        )\n",
    "    source = ColumnDataSource(data)\n",
    "\n",
    "    columns = [\n",
    "            TableColumn(field=\"dates\", title=\"Date\", formatter=DateFormatter()),\n",
    "            TableColumn(field=\"downloads\", title=\"Downloads\"),\n",
    "        ]\n",
    "    data_table = DataTable(source=source, columns=columns, width=400, height=280)\n",
    "    return data_table\n",
    "\n",
    "\n"
   ]
  },
  {
   "cell_type": "code",
   "execution_count": 27,
   "metadata": {},
   "outputs": [
    {
     "name": "stdout",
     "output_type": "stream",
     "text": [
      "('\\n<script type=\"text/javascript\">\\n    (function() {\\n          var fn = function() {\\n            Bokeh.safely(function() {\\n              (function(root) {\\n                function embed_document(root) {\\n                  \\n                var docs_json = \\'{\"7fec89bf-6b4c-4594-8156-5924ff819742\":{\"roots\":{\"references\":[{\"attributes\":{\"callback\":null,\"data\":{\"dates\":[1393632000000.0,1393718400000.0,1393804800000.0,1393891200000.0,1393977600000.0,1394064000000.0,1394150400000.0,1394236800000.0,1394323200000.0,1394409600000.0],\"downloads\":[5,13,38,1,22,99,29,6,32,43]},\"selected\":{\"id\":\"1205\",\"type\":\"Selection\"},\"selection_policy\":{\"id\":\"1204\",\"type\":\"UnionRenderers\"}},\"id\":\"1194\",\"type\":\"ColumnDataSource\"},{\"attributes\":{},\"id\":\"1195\",\"type\":\"DateFormatter\"},{\"attributes\":{},\"id\":\"1204\",\"type\":\"UnionRenderers\"},{\"attributes\":{\"source\":{\"id\":\"1194\",\"type\":\"ColumnDataSource\"}},\"id\":\"1200\",\"type\":\"CDSView\"},{\"attributes\":{},\"id\":\"1202\",\"type\":\"StringEditor\"},{\"attributes\":{},\"id\":\"1203\",\"type\":\"StringFormatter\"},{\"attributes\":{},\"id\":\"1205\",\"type\":\"Selection\"},{\"attributes\":{\"editor\":{\"id\":\"1201\",\"type\":\"StringEditor\"},\"field\":\"dates\",\"formatter\":{\"id\":\"1195\",\"type\":\"DateFormatter\"},\"title\":\"Date\"},\"id\":\"1196\",\"type\":\"TableColumn\"},{\"attributes\":{\"columns\":[{\"id\":\"1196\",\"type\":\"TableColumn\"},{\"id\":\"1198\",\"type\":\"TableColumn\"}],\"height\":280,\"source\":{\"id\":\"1194\",\"type\":\"ColumnDataSource\"},\"view\":{\"id\":\"1200\",\"type\":\"CDSView\"},\"width\":400},\"id\":\"1199\",\"type\":\"DataTable\"},{\"attributes\":{},\"id\":\"1201\",\"type\":\"StringEditor\"},{\"attributes\":{\"editor\":{\"id\":\"1202\",\"type\":\"StringEditor\"},\"field\":\"downloads\",\"formatter\":{\"id\":\"1203\",\"type\":\"StringFormatter\"},\"title\":\"Downloads\"},\"id\":\"1198\",\"type\":\"TableColumn\"}],\"root_ids\":[\"1199\"]},\"title\":\"Bokeh Application\",\"version\":\"1.4.0\"}}\\';\\n                var render_items = [{\"docid\":\"7fec89bf-6b4c-4594-8156-5924ff819742\",\"roots\":{\"1199\":\"dfb4453b-01e4-4f90-81f3-1836286a6759\"}}];\\n                root.Bokeh.embed.embed_items(docs_json, render_items);\\n              \\n                }\\n                if (root.Bokeh !== undefined) {\\n                  embed_document(root);\\n                } else {\\n                  var attempts = 0;\\n                  var timer = setInterval(function(root) {\\n                    if (root.Bokeh !== undefined) {\\n                      clearInterval(timer);\\n                      embed_document(root);\\n                    } else {\\n                      attempts++;\\n                      if (attempts > 100) {\\n                        clearInterval(timer);\\n                        console.log(\"Bokeh: ERROR: Unable to run BokehJS code because BokehJS library is missing\");\\n                      }\\n                    }\\n                  }, 10, root)\\n                }\\n              })(window);\\n            });\\n          };\\n          if (document.readyState != \"loading\") fn();\\n          else document.addEventListener(\"DOMContentLoaded\", fn);\\n        })();\\n</script>', '\\n<div class=\"bk-root\" id=\"dfb4453b-01e4-4f90-81f3-1836286a6759\" data-root-id=\"1199\"></div>')\n"
     ]
    }
   ],
   "source": [
    "a = data_table()\n",
    "print(components(a))"
   ]
  },
  {
   "cell_type": "code",
   "execution_count": 25,
   "metadata": {},
   "outputs": [],
   "source": [
    "show(a)"
   ]
  },
  {
   "cell_type": "code",
   "execution_count": 28,
   "metadata": {},
   "outputs": [
    {
     "data": {
      "text/plain": [
       "('\\n<script type=\"text/javascript\">\\n    (function() {\\n          var fn = function() {\\n            Bokeh.safely(function() {\\n              (function(root) {\\n                function embed_document(root) {\\n                  \\n                var docs_json = \\'{\"26059f26-fd03-43d2-a033-1aee844decef\":{\"roots\":{\"references\":[{\"attributes\":{\"callback\":null,\"data\":{\"dates\":[1393632000000.0,1393718400000.0,1393804800000.0,1393891200000.0,1393977600000.0,1394064000000.0,1394150400000.0,1394236800000.0,1394323200000.0,1394409600000.0],\"downloads\":[5,13,38,1,22,99,29,6,32,43]},\"selected\":{\"id\":\"1205\",\"type\":\"Selection\"},\"selection_policy\":{\"id\":\"1204\",\"type\":\"UnionRenderers\"}},\"id\":\"1194\",\"type\":\"ColumnDataSource\"},{\"attributes\":{},\"id\":\"1195\",\"type\":\"DateFormatter\"},{\"attributes\":{},\"id\":\"1204\",\"type\":\"UnionRenderers\"},{\"attributes\":{\"source\":{\"id\":\"1194\",\"type\":\"ColumnDataSource\"}},\"id\":\"1200\",\"type\":\"CDSView\"},{\"attributes\":{},\"id\":\"1202\",\"type\":\"StringEditor\"},{\"attributes\":{},\"id\":\"1203\",\"type\":\"StringFormatter\"},{\"attributes\":{},\"id\":\"1205\",\"type\":\"Selection\"},{\"attributes\":{\"editor\":{\"id\":\"1201\",\"type\":\"StringEditor\"},\"field\":\"dates\",\"formatter\":{\"id\":\"1195\",\"type\":\"DateFormatter\"},\"title\":\"Date\"},\"id\":\"1196\",\"type\":\"TableColumn\"},{\"attributes\":{\"columns\":[{\"id\":\"1196\",\"type\":\"TableColumn\"},{\"id\":\"1198\",\"type\":\"TableColumn\"}],\"height\":280,\"source\":{\"id\":\"1194\",\"type\":\"ColumnDataSource\"},\"view\":{\"id\":\"1200\",\"type\":\"CDSView\"},\"width\":400},\"id\":\"1199\",\"type\":\"DataTable\"},{\"attributes\":{},\"id\":\"1201\",\"type\":\"StringEditor\"},{\"attributes\":{\"editor\":{\"id\":\"1202\",\"type\":\"StringEditor\"},\"field\":\"downloads\",\"formatter\":{\"id\":\"1203\",\"type\":\"StringFormatter\"},\"title\":\"Downloads\"},\"id\":\"1198\",\"type\":\"TableColumn\"}],\"root_ids\":[\"1199\"]},\"title\":\"Bokeh Application\",\"version\":\"1.4.0\"}}\\';\\n                var render_items = [{\"docid\":\"26059f26-fd03-43d2-a033-1aee844decef\",\"roots\":{\"1199\":\"452331dc-7718-4db2-8ad8-5bfbc34d2396\"}}];\\n                root.Bokeh.embed.embed_items(docs_json, render_items);\\n              \\n                }\\n                if (root.Bokeh !== undefined) {\\n                  embed_document(root);\\n                } else {\\n                  var attempts = 0;\\n                  var timer = setInterval(function(root) {\\n                    if (root.Bokeh !== undefined) {\\n                      clearInterval(timer);\\n                      embed_document(root);\\n                    } else {\\n                      attempts++;\\n                      if (attempts > 100) {\\n                        clearInterval(timer);\\n                        console.log(\"Bokeh: ERROR: Unable to run BokehJS code because BokehJS library is missing\");\\n                      }\\n                    }\\n                  }, 10, root)\\n                }\\n              })(window);\\n            });\\n          };\\n          if (document.readyState != \"loading\") fn();\\n          else document.addEventListener(\"DOMContentLoaded\", fn);\\n        })();\\n</script>',\n",
       " '\\n<div class=\"bk-root\" id=\"452331dc-7718-4db2-8ad8-5bfbc34d2396\" data-root-id=\"1199\"></div>')"
      ]
     },
     "execution_count": 28,
     "metadata": {},
     "output_type": "execute_result"
    }
   ],
   "source": [
    "components(a)"
   ]
  },
  {
   "cell_type": "code",
   "execution_count": null,
   "metadata": {},
   "outputs": [],
   "source": []
  }
 ],
 "metadata": {
  "kernelspec": {
   "display_name": "Python 3",
   "language": "python",
   "name": "python3"
  },
  "language_info": {
   "codemirror_mode": {
    "name": "ipython",
    "version": 3
   },
   "file_extension": ".py",
   "mimetype": "text/x-python",
   "name": "python",
   "nbconvert_exporter": "python",
   "pygments_lexer": "ipython3",
   "version": "3.7.6"
  }
 },
 "nbformat": 4,
 "nbformat_minor": 4
}
